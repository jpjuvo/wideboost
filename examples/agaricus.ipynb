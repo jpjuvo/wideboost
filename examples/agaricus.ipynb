{
 "cells": [
  {
   "cell_type": "code",
   "execution_count": 1,
   "metadata": {},
   "outputs": [],
   "source": [
    "import numpy as np\n",
    "import xgboost as xgb\n",
    "from wideboost.wrappers import wxgb\n",
    "\n",
    "from matplotlib import pyplot as plt"
   ]
  },
  {
   "cell_type": "code",
   "execution_count": 2,
   "metadata": {},
   "outputs": [
    {
     "name": "stdout",
     "output_type": "stream",
     "text": [
      "[20:27:48] 6513x127 matrix with 143286 entries loaded from ../../xgboost/demo/data/agaricus.txt.train\n",
      "[20:27:48] 1611x127 matrix with 35442 entries loaded from ../../xgboost/demo/data/agaricus.txt.test\n"
     ]
    }
   ],
   "source": [
    "dtrain = xgb.DMatrix('../../xgboost/demo/data/agaricus.txt.train')\n",
    "dtest = xgb.DMatrix('../../xgboost/demo/data/agaricus.txt.test')"
   ]
  },
  {
   "cell_type": "code",
   "execution_count": 3,
   "metadata": {},
   "outputs": [
    {
     "name": "stdout",
     "output_type": "stream",
     "text": [
      "[0]\ttrain-error:0.04652\ttest-error:0.04283\n",
      "[1]\ttrain-error:0.04161\ttest-error:0.04035\n",
      "[2]\ttrain-error:0.04652\ttest-error:0.04283\n",
      "[3]\ttrain-error:0.04161\ttest-error:0.04035\n",
      "[4]\ttrain-error:0.04161\ttest-error:0.04035\n",
      "[5]\ttrain-error:0.04161\ttest-error:0.04035\n",
      "[6]\ttrain-error:0.02334\ttest-error:0.02483\n",
      "[7]\ttrain-error:0.04161\ttest-error:0.04035\n",
      "[8]\ttrain-error:0.04161\ttest-error:0.04035\n",
      "[9]\ttrain-error:0.02334\ttest-error:0.02483\n",
      "[10]\ttrain-error:0.00599\ttest-error:0.00559\n",
      "[11]\ttrain-error:0.01735\ttest-error:0.01924\n",
      "[12]\ttrain-error:0.01735\ttest-error:0.01924\n",
      "[13]\ttrain-error:0.01735\ttest-error:0.01924\n",
      "[14]\ttrain-error:0.01735\ttest-error:0.01924\n",
      "[15]\ttrain-error:0.01735\ttest-error:0.01924\n",
      "[16]\ttrain-error:0.01735\ttest-error:0.01924\n",
      "[17]\ttrain-error:0.01735\ttest-error:0.01924\n",
      "[18]\ttrain-error:0.01336\ttest-error:0.01552\n",
      "[19]\ttrain-error:0.02150\ttest-error:0.02731\n",
      "[20]\ttrain-error:0.02150\ttest-error:0.02731\n",
      "[21]\ttrain-error:0.02150\ttest-error:0.02731\n",
      "[22]\ttrain-error:0.02150\ttest-error:0.02731\n",
      "[23]\ttrain-error:0.02150\ttest-error:0.02731\n",
      "[24]\ttrain-error:0.02150\ttest-error:0.02731\n",
      "[25]\ttrain-error:0.02150\ttest-error:0.02731\n",
      "[26]\ttrain-error:0.02150\ttest-error:0.02731\n",
      "[27]\ttrain-error:0.02150\ttest-error:0.02731\n",
      "[28]\ttrain-error:0.02150\ttest-error:0.02731\n",
      "[29]\ttrain-error:0.02150\ttest-error:0.02731\n",
      "[30]\ttrain-error:0.02150\ttest-error:0.02731\n",
      "[31]\ttrain-error:0.01336\ttest-error:0.01552\n",
      "[32]\ttrain-error:0.02150\ttest-error:0.02731\n",
      "[33]\ttrain-error:0.02150\ttest-error:0.02731\n",
      "[34]\ttrain-error:0.02150\ttest-error:0.02731\n",
      "[35]\ttrain-error:0.01013\ttest-error:0.01366\n",
      "[36]\ttrain-error:0.00200\ttest-error:0.00186\n",
      "[37]\ttrain-error:0.00200\ttest-error:0.00186\n",
      "[38]\ttrain-error:0.01013\ttest-error:0.01366\n",
      "[39]\ttrain-error:0.01013\ttest-error:0.01366\n",
      "[40]\ttrain-error:0.01013\ttest-error:0.01366\n",
      "[41]\ttrain-error:0.00200\ttest-error:0.00186\n",
      "[42]\ttrain-error:0.00200\ttest-error:0.00186\n",
      "[43]\ttrain-error:0.00200\ttest-error:0.00186\n",
      "[44]\ttrain-error:0.00200\ttest-error:0.00186\n",
      "[45]\ttrain-error:0.00200\ttest-error:0.00186\n",
      "[46]\ttrain-error:0.00200\ttest-error:0.00186\n",
      "[47]\ttrain-error:0.00200\ttest-error:0.00186\n",
      "[48]\ttrain-error:0.00200\ttest-error:0.00186\n",
      "[49]\ttrain-error:0.00200\ttest-error:0.00186\n"
     ]
    }
   ],
   "source": [
    "param = {'max_depth':2, 'eta':0.1, 'objective':'binary:logistic','eval_metric':['error'] }\n",
    "num_round = 50\n",
    "watchlist = [(dtrain,'train'),(dtest,'test')]\n",
    "xgb_results = dict()\n",
    "bst = xgb.train(param, dtrain, num_round,watchlist,evals_result=xgb_results)"
   ]
  },
  {
   "cell_type": "code",
   "execution_count": 4,
   "metadata": {},
   "outputs": [
    {
     "name": "stdout",
     "output_type": "stream",
     "text": [
      "Overwriting param `num_class`\n",
      "Overwriting param `objective` while setting `obj` in train.\n",
      "Taking first argument of evals. Multiple evals not supported using xgboost backend.\n",
      "Moving param `eval_metric` to an feval.\n",
      "Setting param `disable_default_eval_metric` to 1.\n",
      "[0]\ttrain-error:0.04652\ttest-error:0.04283\n",
      "[1]\ttrain-error:0.04161\ttest-error:0.04035\n",
      "[2]\ttrain-error:0.04652\ttest-error:0.04283\n",
      "[3]\ttrain-error:0.04161\ttest-error:0.04035\n",
      "[4]\ttrain-error:0.04161\ttest-error:0.04035\n",
      "[5]\ttrain-error:0.04161\ttest-error:0.04035\n",
      "[6]\ttrain-error:0.02334\ttest-error:0.02483\n",
      "[7]\ttrain-error:0.04161\ttest-error:0.04035\n",
      "[8]\ttrain-error:0.04161\ttest-error:0.04035\n",
      "[9]\ttrain-error:0.02334\ttest-error:0.02483\n",
      "[10]\ttrain-error:0.00599\ttest-error:0.00559\n",
      "[11]\ttrain-error:0.01735\ttest-error:0.01924\n",
      "[12]\ttrain-error:0.01735\ttest-error:0.01924\n",
      "[13]\ttrain-error:0.01735\ttest-error:0.01924\n",
      "[14]\ttrain-error:0.01735\ttest-error:0.01924\n",
      "[15]\ttrain-error:0.01735\ttest-error:0.01924\n",
      "[16]\ttrain-error:0.01735\ttest-error:0.01924\n",
      "[17]\ttrain-error:0.01735\ttest-error:0.01924\n",
      "[18]\ttrain-error:0.01336\ttest-error:0.01552\n",
      "[19]\ttrain-error:0.02150\ttest-error:0.02731\n",
      "[20]\ttrain-error:0.02150\ttest-error:0.02731\n",
      "[21]\ttrain-error:0.02150\ttest-error:0.02731\n",
      "[22]\ttrain-error:0.02150\ttest-error:0.02731\n",
      "[23]\ttrain-error:0.02150\ttest-error:0.02731\n",
      "[24]\ttrain-error:0.02150\ttest-error:0.02731\n",
      "[25]\ttrain-error:0.02150\ttest-error:0.02731\n",
      "[26]\ttrain-error:0.02150\ttest-error:0.02731\n",
      "[27]\ttrain-error:0.02150\ttest-error:0.02731\n",
      "[28]\ttrain-error:0.02150\ttest-error:0.02731\n",
      "[29]\ttrain-error:0.02150\ttest-error:0.02731\n",
      "[30]\ttrain-error:0.02150\ttest-error:0.02731\n",
      "[31]\ttrain-error:0.01336\ttest-error:0.01552\n",
      "[32]\ttrain-error:0.02150\ttest-error:0.02731\n",
      "[33]\ttrain-error:0.02150\ttest-error:0.02731\n",
      "[34]\ttrain-error:0.02150\ttest-error:0.02731\n",
      "[35]\ttrain-error:0.01013\ttest-error:0.01366\n",
      "[36]\ttrain-error:0.00200\ttest-error:0.00186\n",
      "[37]\ttrain-error:0.00200\ttest-error:0.00186\n",
      "[38]\ttrain-error:0.01013\ttest-error:0.01366\n",
      "[39]\ttrain-error:0.01013\ttest-error:0.01366\n",
      "[40]\ttrain-error:0.01013\ttest-error:0.01366\n",
      "[41]\ttrain-error:0.00200\ttest-error:0.00186\n",
      "[42]\ttrain-error:0.00200\ttest-error:0.00186\n",
      "[43]\ttrain-error:0.00200\ttest-error:0.00186\n",
      "[44]\ttrain-error:0.00200\ttest-error:0.00186\n",
      "[45]\ttrain-error:0.00200\ttest-error:0.00186\n",
      "[46]\ttrain-error:0.00200\ttest-error:0.00186\n",
      "[47]\ttrain-error:0.00200\ttest-error:0.00186\n",
      "[48]\ttrain-error:0.00200\ttest-error:0.00186\n",
      "[49]\ttrain-error:0.00200\ttest-error:0.00186\n"
     ]
    }
   ],
   "source": [
    "## Matches xgboost when there are zero extra dimensions\n",
    "param['extra_dims'] = 0\n",
    "wbst = wxgb.train(param, dtrain, num_round,watchlist)"
   ]
  },
  {
   "cell_type": "code",
   "execution_count": 5,
   "metadata": {},
   "outputs": [
    {
     "name": "stdout",
     "output_type": "stream",
     "text": [
      "Overwriting param `num_class`\n",
      "Overwriting param `objective` while setting `obj` in train.\n",
      "Taking first argument of evals. Multiple evals not supported using xgboost backend.\n",
      "Moving param `eval_metric` to an feval.\n",
      "Setting param `disable_default_eval_metric` to 1.\n",
      "[0]\ttrain-error:0.04652\ttest-error:0.04283\n",
      "[1]\ttrain-error:0.04652\ttest-error:0.04283\n",
      "[2]\ttrain-error:0.02334\ttest-error:0.02483\n",
      "[3]\ttrain-error:0.04161\ttest-error:0.04035\n",
      "[4]\ttrain-error:0.01735\ttest-error:0.01924\n",
      "[5]\ttrain-error:0.02226\ttest-error:0.02173\n",
      "[6]\ttrain-error:0.01336\ttest-error:0.01552\n",
      "[7]\ttrain-error:0.02150\ttest-error:0.02731\n",
      "[8]\ttrain-error:0.02150\ttest-error:0.02731\n",
      "[9]\ttrain-error:0.02150\ttest-error:0.02731\n",
      "[10]\ttrain-error:0.02150\ttest-error:0.02731\n",
      "[11]\ttrain-error:0.01336\ttest-error:0.01552\n",
      "[12]\ttrain-error:0.00200\ttest-error:0.00186\n",
      "[13]\ttrain-error:0.00200\ttest-error:0.00186\n",
      "[14]\ttrain-error:0.00200\ttest-error:0.00186\n",
      "[15]\ttrain-error:0.00200\ttest-error:0.00186\n",
      "[16]\ttrain-error:0.00200\ttest-error:0.00186\n",
      "[17]\ttrain-error:0.00200\ttest-error:0.00186\n",
      "[18]\ttrain-error:0.00200\ttest-error:0.00186\n",
      "[19]\ttrain-error:0.00200\ttest-error:0.00186\n",
      "[20]\ttrain-error:0.00200\ttest-error:0.00186\n",
      "[21]\ttrain-error:0.00200\ttest-error:0.00186\n",
      "[22]\ttrain-error:0.00200\ttest-error:0.00186\n",
      "[23]\ttrain-error:0.00200\ttest-error:0.00186\n",
      "[24]\ttrain-error:0.00200\ttest-error:0.00186\n",
      "[25]\ttrain-error:0.00200\ttest-error:0.00186\n",
      "[26]\ttrain-error:0.00200\ttest-error:0.00186\n",
      "[27]\ttrain-error:0.00200\ttest-error:0.00186\n",
      "[28]\ttrain-error:0.00200\ttest-error:0.00186\n",
      "[29]\ttrain-error:0.00200\ttest-error:0.00186\n",
      "[30]\ttrain-error:0.00123\ttest-error:0.00000\n",
      "[31]\ttrain-error:0.00123\ttest-error:0.00000\n",
      "[32]\ttrain-error:0.00123\ttest-error:0.00000\n",
      "[33]\ttrain-error:0.00123\ttest-error:0.00000\n",
      "[34]\ttrain-error:0.00123\ttest-error:0.00000\n",
      "[35]\ttrain-error:0.00123\ttest-error:0.00000\n",
      "[36]\ttrain-error:0.00123\ttest-error:0.00000\n",
      "[37]\ttrain-error:0.00123\ttest-error:0.00000\n",
      "[38]\ttrain-error:0.00123\ttest-error:0.00000\n",
      "[39]\ttrain-error:0.00123\ttest-error:0.00000\n",
      "[40]\ttrain-error:0.00123\ttest-error:0.00000\n",
      "[41]\ttrain-error:0.00123\ttest-error:0.00000\n",
      "[42]\ttrain-error:0.00000\ttest-error:0.00000\n",
      "[43]\ttrain-error:0.00000\ttest-error:0.00000\n",
      "[44]\ttrain-error:0.00000\ttest-error:0.00000\n",
      "[45]\ttrain-error:0.00000\ttest-error:0.00000\n",
      "[46]\ttrain-error:0.00000\ttest-error:0.00000\n",
      "[47]\ttrain-error:0.00000\ttest-error:0.00000\n",
      "[48]\ttrain-error:0.00000\ttest-error:0.00000\n",
      "[49]\ttrain-error:0.00000\ttest-error:0.00000\n"
     ]
    }
   ],
   "source": [
    "param['extra_dims'] = 2\n",
    "ed1_results = dict()\n",
    "wbst = wxgb.train(param, dtrain, num_round,watchlist,evals_result=ed1_results)"
   ]
  },
  {
   "cell_type": "code",
   "execution_count": 6,
   "metadata": {},
   "outputs": [
    {
     "data": {
      "image/png": "[encoded data removed]",
      "text/plain": [
       "<Figure size 432x288 with 1 Axes>"
      ]
     },
     "metadata": {
      "needs_background": "light"
     },
     "output_type": "display_data"
    }
   ],
   "source": [
    "plt.plot(xgb_results['test']['error'])\n",
    "plt.plot(ed1_results['test']['error'])\n",
    "plt.show()"
   ]
  }
 ],
 "metadata": {
  "kernelspec": {
   "display_name": "Python 3",
   "language": "python",
   "name": "python3"
  },
  "language_info": {
   "codemirror_mode": {
    "name": "ipython",
    "version": 3
   },
   "file_extension": ".py",
   "mimetype": "text/x-python",
   "name": "python",
   "nbconvert_exporter": "python",
   "pygments_lexer": "ipython3",
   "version": "3.8.3"
  }
 },
 "nbformat": 4,
 "nbformat_minor": 4
}
